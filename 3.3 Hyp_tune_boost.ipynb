{
 "cells": [
  {
   "cell_type": "markdown",
   "metadata": {},
   "source": [
    "## 1. Importing libraries"
   ]
  },
  {
   "cell_type": "code",
   "execution_count": 2,
   "metadata": {},
   "outputs": [],
   "source": [
    "import pandas as pd\n",
    "import numpy as np\n",
    "import sys\n",
    "sys.path.insert(0, './modules')\n",
    "from Data_prep import Data\n",
    "from Feature_engg import Feature_generator\n",
    "import xgboost as xgb\n",
    "import seaborn as sns\n",
    "import matplotlib.pyplot as plt\n",
    "from sklearn import metrics\n",
    "from sklearn.model_selection import GridSearchCV\n",
    "from sklearn.model_selection import train_test_split\n",
    "import warnings\n",
    "warnings.filterwarnings('ignore')"
   ]
  },
  {
   "cell_type": "markdown",
   "metadata": {},
   "source": [
    "## 2. Define parameters required to create data"
   ]
  },
  {
   "cell_type": "code",
   "execution_count": 3,
   "metadata": {},
   "outputs": [],
   "source": [
    "#define number of processors to use for parallel runs\n",
    "num_procs = 4\n",
    "\n",
    "#set verbose level for models\n",
    "verbose_lvl = 0\n",
    "\n",
    "#define input files\n",
    "train_feature_file = r'C:\\Users\\Admin\\Desktop\\salary_predictions\\data\\train_features.csv'\n",
    "train_target_file = r'C:\\Users\\Admin\\Desktop\\salary_predictions\\data\\train_salaries.csv'\n",
    "test_file = r'C:\\Users\\Admin\\Desktop\\salary_predictions\\data\\test_features.csv'\n",
    "\n",
    "#define variables\n",
    "cat_cols = ['companyId', 'jobType', 'degree', 'major', 'industry']\n",
    "num_cols = ['yearsExperience', 'milesFromMetropolis']\n",
    "target_col = 'salary'\n",
    "id_col = 'jobId'\n",
    "\n",
    "#turn feature engineering on/off\n",
    "engineer_features = True"
   ]
  },
  {
   "cell_type": "markdown",
   "metadata": {},
   "source": [
    "## 3. Creating a data object"
   ]
  },
  {
   "cell_type": "code",
   "execution_count": 5,
   "metadata": {},
   "outputs": [],
   "source": [
    "data = Data(train_feature_file, train_target_file, test_file, cat_cols, num_cols, target_col, id_col)"
   ]
  },
  {
   "cell_type": "markdown",
   "metadata": {},
   "source": [
    "## Taking a sample of the dataset due to computational limitations"
   ]
  },
  {
   "cell_type": "code",
   "execution_count": 6,
   "metadata": {},
   "outputs": [],
   "source": [
    "data.train_df = data.train_df.sample(n = 10000,replace = True, random_state = 2)"
   ]
  },
  {
   "cell_type": "code",
   "execution_count": 7,
   "metadata": {},
   "outputs": [],
   "source": [
    "if engineer_features:\n",
    "    feature_generator = Feature_generator(data)\n",
    "    feature_generator.add_group_stats()"
   ]
  },
  {
   "cell_type": "code",
   "execution_count": 5,
   "metadata": {},
   "outputs": [
    {
     "data": {
      "text/plain": [
       "(10000, 15)"
      ]
     },
     "execution_count": 5,
     "metadata": {},
     "output_type": "execute_result"
    }
   ],
   "source": [
    "data.train_df.shape"
   ]
  },
  {
   "cell_type": "markdown",
   "metadata": {},
   "source": [
    "## 4. Train/test split"
   ]
  },
  {
   "cell_type": "code",
   "execution_count": 8,
   "metadata": {},
   "outputs": [],
   "source": [
    "# Split Train/Test Set\n",
    "X_train_2, X_test_2, y_train_2, y_test_2 = train_test_split(data.train_df.drop([\"salary\",\"index\",\"jobId\"], axis=1), data.train_df[\"salary\"],random_state=10, test_size=0.25)"
   ]
  },
  {
   "cell_type": "code",
   "execution_count": 7,
   "metadata": {},
   "outputs": [
    {
     "data": {
      "text/plain": [
       "(7500, 12)"
      ]
     },
     "execution_count": 7,
     "metadata": {},
     "output_type": "execute_result"
    }
   ],
   "source": [
    "X_train_2.shape"
   ]
  },
  {
   "cell_type": "markdown",
   "metadata": {},
   "source": [
    "## 5.Creating an evaluation set"
   ]
  },
  {
   "cell_type": "code",
   "execution_count": 9,
   "metadata": {},
   "outputs": [],
   "source": [
    "# Create empty array to store results\n",
    "results = []\n",
    "\n",
    "# Create watchlist to keep track of train/validation performance\n",
    "eval_set = [(X_train_2, y_train_2), (X_test_2, y_test_2)]"
   ]
  },
  {
   "cell_type": "markdown",
   "metadata": {},
   "source": [
    "## 6. Tuning hyperparmeters using learning curves \n",
    "## 6.1 Tuning max_depth "
   ]
  },
  {
   "cell_type": "markdown",
   "metadata": {},
   "source": [
    "## The optimum max_depth is 4"
   ]
  },
  {
   "cell_type": "code",
   "execution_count": 9,
   "metadata": {},
   "outputs": [
    {
     "data": {
      "text/html": [
       "<div>\n",
       "<style scoped>\n",
       "    .dataframe tbody tr th:only-of-type {\n",
       "        vertical-align: middle;\n",
       "    }\n",
       "\n",
       "    .dataframe tbody tr th {\n",
       "        vertical-align: top;\n",
       "    }\n",
       "\n",
       "    .dataframe thead th {\n",
       "        text-align: right;\n",
       "    }\n",
       "</style>\n",
       "<table border=\"1\" class=\"dataframe\">\n",
       "  <thead>\n",
       "    <tr style=\"text-align: right;\">\n",
       "      <th></th>\n",
       "      <th>test_error</th>\n",
       "      <th>train_error</th>\n",
       "    </tr>\n",
       "    <tr>\n",
       "      <th>max_depth</th>\n",
       "      <th></th>\n",
       "      <th></th>\n",
       "    </tr>\n",
       "  </thead>\n",
       "  <tbody>\n",
       "    <tr>\n",
       "      <th>2</th>\n",
       "      <td>71.374433</td>\n",
       "      <td>57.786998</td>\n",
       "    </tr>\n",
       "    <tr>\n",
       "      <th>3</th>\n",
       "      <td>61.607876</td>\n",
       "      <td>43.185711</td>\n",
       "    </tr>\n",
       "    <tr>\n",
       "      <th>4</th>\n",
       "      <td>60.725790</td>\n",
       "      <td>32.887048</td>\n",
       "    </tr>\n",
       "    <tr>\n",
       "      <th>5</th>\n",
       "      <td>66.088507</td>\n",
       "      <td>21.648123</td>\n",
       "    </tr>\n",
       "    <tr>\n",
       "      <th>10</th>\n",
       "      <td>82.024984</td>\n",
       "      <td>0.995045</td>\n",
       "    </tr>\n",
       "    <tr>\n",
       "      <th>12</th>\n",
       "      <td>78.392990</td>\n",
       "      <td>0.132293</td>\n",
       "    </tr>\n",
       "    <tr>\n",
       "      <th>15</th>\n",
       "      <td>78.151823</td>\n",
       "      <td>0.010131</td>\n",
       "    </tr>\n",
       "  </tbody>\n",
       "</table>\n",
       "</div>"
      ],
      "text/plain": [
       "           test_error  train_error\n",
       "max_depth                         \n",
       "2           71.374433    57.786998\n",
       "3           61.607876    43.185711\n",
       "4           60.725790    32.887048\n",
       "5           66.088507    21.648123\n",
       "10          82.024984     0.995045\n",
       "12          78.392990     0.132293\n",
       "15          78.151823     0.010131"
      ]
     },
     "execution_count": 9,
     "metadata": {},
     "output_type": "execute_result"
    }
   ],
   "source": [
    "for max_depth in [2,3,4,5,10,12,15]:\n",
    "    clf = xgb.XGBRegressor(max_depth=max_depth)\n",
    "    clf.fit(X_train_2, y_train_2, eval_set=eval_set, verbose=False)\n",
    "    results.append(\n",
    "        {\n",
    "            'max_depth': max_depth,\n",
    "            'train_error': metrics.mean_squared_error(y_train_2, clf.predict(X_train_2)),\n",
    "            'test_error': metrics.mean_squared_error(y_test_2, clf.predict(X_test_2))\n",
    "        })\n",
    "    \n",
    "# Display Results\n",
    "max_depth_lr = pd.DataFrame(results).set_index('max_depth').sort_index()\n",
    "max_depth_lr"
   ]
  },
  {
   "cell_type": "code",
   "execution_count": 10,
   "metadata": {},
   "outputs": [
    {
     "data": {
      "text/plain": [
       "<matplotlib.axes._subplots.AxesSubplot at 0x137b6b47fd0>"
      ]
     },
     "execution_count": 10,
     "metadata": {},
     "output_type": "execute_result"
    },
    {
     "data": {
      "image/png": "[encoded data removed]",
      "text/plain": [
       "<Figure size 432x288 with 1 Axes>"
      ]
     },
     "metadata": {
      "needs_background": "light"
     },
     "output_type": "display_data"
    }
   ],
   "source": [
    "# Plot Max_Depth Learning Curve\n",
    "max_depth_lr.plot(title=\"Max_Depth Learning Curve\")"
   ]
  },
  {
   "cell_type": "markdown",
   "metadata": {},
   "source": [
    "## 6.2 Tuning learning_rate "
   ]
  },
  {
   "cell_type": "markdown",
   "metadata": {},
   "source": [
    "## The best learning rate is 0.20"
   ]
  },
  {
   "cell_type": "code",
   "execution_count": 11,
   "metadata": {},
   "outputs": [
    {
     "data": {
      "text/html": [
       "<div>\n",
       "<style scoped>\n",
       "    .dataframe tbody tr th:only-of-type {\n",
       "        vertical-align: middle;\n",
       "    }\n",
       "\n",
       "    .dataframe tbody tr th {\n",
       "        vertical-align: top;\n",
       "    }\n",
       "\n",
       "    .dataframe thead th {\n",
       "        text-align: right;\n",
       "    }\n",
       "</style>\n",
       "<table border=\"1\" class=\"dataframe\">\n",
       "  <thead>\n",
       "    <tr style=\"text-align: right;\">\n",
       "      <th></th>\n",
       "      <th>test_error</th>\n",
       "      <th>train_error</th>\n",
       "    </tr>\n",
       "    <tr>\n",
       "      <th>learning_rate</th>\n",
       "      <th></th>\n",
       "      <th></th>\n",
       "    </tr>\n",
       "  </thead>\n",
       "  <tbody>\n",
       "    <tr>\n",
       "      <th>0.05</th>\n",
       "      <td>71.171627</td>\n",
       "      <td>56.999398</td>\n",
       "    </tr>\n",
       "    <tr>\n",
       "      <th>0.10</th>\n",
       "      <td>68.488581</td>\n",
       "      <td>51.934373</td>\n",
       "    </tr>\n",
       "    <tr>\n",
       "      <th>0.20</th>\n",
       "      <td>64.080710</td>\n",
       "      <td>44.530644</td>\n",
       "    </tr>\n",
       "    <tr>\n",
       "      <th>0.40</th>\n",
       "      <td>64.540460</td>\n",
       "      <td>38.432027</td>\n",
       "    </tr>\n",
       "    <tr>\n",
       "      <th>0.60</th>\n",
       "      <td>68.679947</td>\n",
       "      <td>35.996378</td>\n",
       "    </tr>\n",
       "    <tr>\n",
       "      <th>0.80</th>\n",
       "      <td>68.192932</td>\n",
       "      <td>32.510420</td>\n",
       "    </tr>\n",
       "    <tr>\n",
       "      <th>1.00</th>\n",
       "      <td>72.624001</td>\n",
       "      <td>32.617701</td>\n",
       "    </tr>\n",
       "  </tbody>\n",
       "</table>\n",
       "</div>"
      ],
      "text/plain": [
       "               test_error  train_error\n",
       "learning_rate                         \n",
       "0.05            71.171627    56.999398\n",
       "0.10            68.488581    51.934373\n",
       "0.20            64.080710    44.530644\n",
       "0.40            64.540460    38.432027\n",
       "0.60            68.679947    35.996378\n",
       "0.80            68.192932    32.510420\n",
       "1.00            72.624001    32.617701"
      ]
     },
     "execution_count": 11,
     "metadata": {},
     "output_type": "execute_result"
    }
   ],
   "source": [
    "results = []\n",
    "\n",
    "for learning_rate in [0.05,0.1,0.2,0.4,0.6,0.8,1]:\n",
    "    clf = xgb.XGBRegressor(max_depth=2,learning_rate=learning_rate, n_estimators=200)\n",
    "    clf.fit(X_train_2, y_train_2, eval_set=eval_set, verbose=False)\n",
    "    results.append(\n",
    "        {\n",
    "            'learning_rate': learning_rate,\n",
    "            'train_error': metrics.mean_squared_error(y_train_2, clf.predict(X_train_2)),\n",
    "            'test_error': metrics.mean_squared_error(y_test_2, clf.predict(X_test_2))\n",
    "        })\n",
    "    \n",
    "learning_rate_lr = pd.DataFrame(results).set_index('learning_rate').sort_index()\n",
    "learning_rate_lr"
   ]
  },
  {
   "cell_type": "code",
   "execution_count": 12,
   "metadata": {},
   "outputs": [
    {
     "data": {
      "text/plain": [
       "<matplotlib.axes._subplots.AxesSubplot at 0x137b137ea58>"
      ]
     },
     "execution_count": 12,
     "metadata": {},
     "output_type": "execute_result"
    },
    {
     "data": {
      "image/png": "[encoded data removed]",
      "text/plain": [
       "<Figure size 432x288 with 1 Axes>"
      ]
     },
     "metadata": {
      "needs_background": "light"
     },
     "output_type": "display_data"
    }
   ],
   "source": [
    "# Plot Learning Rate\n",
    "learning_rate_lr.plot(title=\"Learning Rate Learning Curve\")"
   ]
  },
  {
   "cell_type": "markdown",
   "metadata": {},
   "source": [
    "## 6.3 Tuning N_estimators"
   ]
  },
  {
   "cell_type": "markdown",
   "metadata": {},
   "source": [
    "## The optimum number of estimators is 500"
   ]
  },
  {
   "cell_type": "code",
   "execution_count": 13,
   "metadata": {},
   "outputs": [
    {
     "data": {
      "text/html": [
       "<div>\n",
       "<style scoped>\n",
       "    .dataframe tbody tr th:only-of-type {\n",
       "        vertical-align: middle;\n",
       "    }\n",
       "\n",
       "    .dataframe tbody tr th {\n",
       "        vertical-align: top;\n",
       "    }\n",
       "\n",
       "    .dataframe thead th {\n",
       "        text-align: right;\n",
       "    }\n",
       "</style>\n",
       "<table border=\"1\" class=\"dataframe\">\n",
       "  <thead>\n",
       "    <tr style=\"text-align: right;\">\n",
       "      <th></th>\n",
       "      <th>test_error</th>\n",
       "      <th>train_error</th>\n",
       "    </tr>\n",
       "    <tr>\n",
       "      <th>n_estimators</th>\n",
       "      <th></th>\n",
       "      <th></th>\n",
       "    </tr>\n",
       "  </thead>\n",
       "  <tbody>\n",
       "    <tr>\n",
       "      <th>50</th>\n",
       "      <td>87.267849</td>\n",
       "      <td>73.466090</td>\n",
       "    </tr>\n",
       "    <tr>\n",
       "      <th>60</th>\n",
       "      <td>79.690881</td>\n",
       "      <td>66.578145</td>\n",
       "    </tr>\n",
       "    <tr>\n",
       "      <th>100</th>\n",
       "      <td>71.374433</td>\n",
       "      <td>57.786998</td>\n",
       "    </tr>\n",
       "    <tr>\n",
       "      <th>150</th>\n",
       "      <td>70.069266</td>\n",
       "      <td>54.768310</td>\n",
       "    </tr>\n",
       "    <tr>\n",
       "      <th>200</th>\n",
       "      <td>68.488581</td>\n",
       "      <td>51.934373</td>\n",
       "    </tr>\n",
       "    <tr>\n",
       "      <th>500</th>\n",
       "      <td>60.978052</td>\n",
       "      <td>41.610912</td>\n",
       "    </tr>\n",
       "    <tr>\n",
       "      <th>750</th>\n",
       "      <td>61.794443</td>\n",
       "      <td>38.553389</td>\n",
       "    </tr>\n",
       "    <tr>\n",
       "      <th>1000</th>\n",
       "      <td>62.261050</td>\n",
       "      <td>36.208002</td>\n",
       "    </tr>\n",
       "    <tr>\n",
       "      <th>1500</th>\n",
       "      <td>63.969600</td>\n",
       "      <td>33.078236</td>\n",
       "    </tr>\n",
       "  </tbody>\n",
       "</table>\n",
       "</div>"
      ],
      "text/plain": [
       "              test_error  train_error\n",
       "n_estimators                         \n",
       "50             87.267849    73.466090\n",
       "60             79.690881    66.578145\n",
       "100            71.374433    57.786998\n",
       "150            70.069266    54.768310\n",
       "200            68.488581    51.934373\n",
       "500            60.978052    41.610912\n",
       "750            61.794443    38.553389\n",
       "1000           62.261050    36.208002\n",
       "1500           63.969600    33.078236"
      ]
     },
     "execution_count": 13,
     "metadata": {},
     "output_type": "execute_result"
    }
   ],
   "source": [
    "# Reset results array\n",
    "results = []\n",
    "\n",
    "for n_estimators in [50,60,100,150,200,500,750,1000, 1500]:\n",
    "    clf = xgb.XGBRegressor(max_depth=2,learning_rate=0.10, n_estimators=n_estimators)\n",
    "    clf.fit(X_train_2, y_train_2, eval_set=eval_set, verbose=False)\n",
    "    results.append(\n",
    "        {\n",
    "            'n_estimators': n_estimators,\n",
    "            'train_error': metrics.mean_squared_error(y_train_2, clf.predict(X_train_2)),\n",
    "            'test_error': metrics.mean_squared_error(y_test_2, clf.predict(X_test_2))\n",
    "        })\n",
    "    \n",
    "n_estimators_lr = pd.DataFrame(results).set_index('n_estimators').sort_index()\n",
    "n_estimators_lr"
   ]
  },
  {
   "cell_type": "code",
   "execution_count": 14,
   "metadata": {},
   "outputs": [
    {
     "data": {
      "text/plain": [
       "<matplotlib.axes._subplots.AxesSubplot at 0x137ba8a4588>"
      ]
     },
     "execution_count": 14,
     "metadata": {},
     "output_type": "execute_result"
    },
    {
     "data": {
      "image/png": "[encoded data removed]",
      "text/plain": [
       "<Figure size 432x288 with 1 Axes>"
      ]
     },
     "metadata": {
      "needs_background": "light"
     },
     "output_type": "display_data"
    }
   ],
   "source": [
    "n_estimators_lr.plot(title=\"N_Estimators Learning Curve\")"
   ]
  },
  {
   "cell_type": "markdown",
   "metadata": {},
   "source": [
    "## 7. Perform grid_search"
   ]
  },
  {
   "cell_type": "code",
   "execution_count": 15,
   "metadata": {},
   "outputs": [],
   "source": [
    "model = xgb.XGBRegressor()"
   ]
  },
  {
   "cell_type": "code",
   "execution_count": 16,
   "metadata": {},
   "outputs": [],
   "source": [
    "# Define Parameters\n",
    "param_grid = {\"max_depth\": [3,4,5],\n",
    "              \"max_features\" : [1,0.8],\n",
    "              \"min_samples_leaf\" : [5,9],\n",
    "              \"n_estimators\": [450,500,600],\n",
    "              \"learning_rate\": [0.1,0.2,0.3]}"
   ]
  },
  {
   "cell_type": "code",
   "execution_count": 17,
   "metadata": {},
   "outputs": [
    {
     "name": "stdout",
     "output_type": "stream",
     "text": [
      "Fitting 3 folds for each of 108 candidates, totalling 324 fits\n"
     ]
    },
    {
     "name": "stderr",
     "output_type": "stream",
     "text": [
      "[Parallel(n_jobs=-1)]: Using backend LokyBackend with 8 concurrent workers.\n",
      "[Parallel(n_jobs=-1)]: Done   2 tasks      | elapsed:    6.3s\n",
      "[Parallel(n_jobs=-1)]: Done   9 tasks      | elapsed:    8.9s\n",
      "[Parallel(n_jobs=-1)]: Done  16 tasks      | elapsed:   10.9s\n",
      "[Parallel(n_jobs=-1)]: Done  25 tasks      | elapsed:   15.4s\n",
      "[Parallel(n_jobs=-1)]: Done  34 tasks      | elapsed:   19.3s\n",
      "[Parallel(n_jobs=-1)]: Done  45 tasks      | elapsed:   24.3s\n",
      "[Parallel(n_jobs=-1)]: Done  56 tasks      | elapsed:   29.3s\n",
      "[Parallel(n_jobs=-1)]: Done  69 tasks      | elapsed:   37.1s\n",
      "[Parallel(n_jobs=-1)]: Done  82 tasks      | elapsed:   45.2s\n",
      "[Parallel(n_jobs=-1)]: Done  97 tasks      | elapsed:   57.0s\n",
      "[Parallel(n_jobs=-1)]: Done 112 tasks      | elapsed:  1.1min\n",
      "[Parallel(n_jobs=-1)]: Done 129 tasks      | elapsed:  1.2min\n",
      "[Parallel(n_jobs=-1)]: Done 146 tasks      | elapsed:  1.4min\n",
      "[Parallel(n_jobs=-1)]: Done 165 tasks      | elapsed:  1.6min\n",
      "[Parallel(n_jobs=-1)]: Done 184 tasks      | elapsed:  1.8min\n",
      "[Parallel(n_jobs=-1)]: Done 205 tasks      | elapsed:  2.1min\n",
      "[Parallel(n_jobs=-1)]: Done 226 tasks      | elapsed:  2.3min\n",
      "[Parallel(n_jobs=-1)]: Done 249 tasks      | elapsed:  2.6min\n",
      "[Parallel(n_jobs=-1)]: Done 272 tasks      | elapsed:  2.8min\n",
      "[Parallel(n_jobs=-1)]: Done 297 tasks      | elapsed:  3.1min\n",
      "[Parallel(n_jobs=-1)]: Done 324 out of 324 | elapsed:  3.5min finished\n"
     ]
    }
   ],
   "source": [
    "# Perform Grid Search CV\n",
    "gs_cv = GridSearchCV(model, param_grid=param_grid, cv = 3, verbose=10, n_jobs=-1 ).fit(X_train_2, y_train_2)"
   ]
  },
  {
   "cell_type": "code",
   "execution_count": 18,
   "metadata": {},
   "outputs": [
    {
     "data": {
      "text/plain": [
       "XGBRegressor(base_score=0.5, booster='gbtree', colsample_bylevel=1,\n",
       "       colsample_bytree=1, gamma=0, learning_rate=0.1, max_delta_step=0,\n",
       "       max_depth=3, max_features=1, min_child_weight=1, min_samples_leaf=5,\n",
       "       missing=None, n_estimators=450, n_jobs=1, nthread=None,\n",
       "       objective='reg:linear', random_state=0, reg_alpha=0, reg_lambda=1,\n",
       "       scale_pos_weight=1, seed=None, silent=True, subsample=1)"
      ]
     },
     "execution_count": 18,
     "metadata": {},
     "output_type": "execute_result"
    }
   ],
   "source": [
    "# Best hyperparmeter setting\n",
    "gs_cv.best_estimator_"
   ]
  },
  {
   "cell_type": "markdown",
   "metadata": {},
   "source": [
    "## 8. Use the best model"
   ]
  },
  {
   "cell_type": "code",
   "execution_count": 10,
   "metadata": {},
   "outputs": [],
   "source": [
    "# Use our best model parameters found by GridSearchCV\n",
    "best_model = xgb.XGBRegressor(base_score=0.5, booster='gbtree', colsample_bylevel=1,\n",
    "       colsample_bytree=1, gamma=0, learning_rate=0.1, max_delta_step=0,\n",
    "       max_depth=3, max_features=1.0, min_child_weight=1,\n",
    "       min_samples_leaf=5, missing=None, n_estimators=450, n_jobs=1,\n",
    "       nthread=None, objective='reg:linear', random_state=0, reg_alpha=0,\n",
    "       reg_lambda=1, scale_pos_weight=1, seed=None, silent=True,\n",
    "       subsample=1)"
   ]
  },
  {
   "cell_type": "markdown",
   "metadata": {},
   "source": [
    "## 9. Plot learning curve"
   ]
  },
  {
   "cell_type": "code",
   "execution_count": 20,
   "metadata": {},
   "outputs": [
    {
     "data": {
      "text/plain": [
       "Text(0.5, 1.0, 'XGBoost RMSE')"
      ]
     },
     "execution_count": 20,
     "metadata": {},
     "output_type": "execute_result"
    },
    {
     "data": {
      "image/png": "[encoded data removed]",
      "text/plain": [
       "<Figure size 432x288 with 1 Axes>"
      ]
     },
     "metadata": {
      "needs_background": "light"
     },
     "output_type": "display_data"
    }
   ],
   "source": [
    "# Create eval_set\n",
    "eval_set = [(X_train_2, y_train_2), (X_test_2, y_test_2)]\n",
    "\n",
    "# Fit our model to the training set\n",
    "best_model.fit(X_train_2, y_train_2, eval_set=eval_set, verbose=False)\n",
    "\n",
    "# Make predictions with test data\n",
    "y_pred = best_model.predict(X_test_2)\n",
    "predictions = [round(value) for value in y_pred]\n",
    "\n",
    "# Retrieve performance metrics\n",
    "results = best_model.evals_result()\n",
    "epochs = len(results['validation_0']['rmse'])\n",
    "x_axis = range(0, epochs)\n",
    "\n",
    "# Plot log loss curve\n",
    "fig, ax = plt.subplots()\n",
    "ax.plot(x_axis, results['validation_0']['rmse'], label='Train')\n",
    "ax.plot(x_axis, results['validation_1']['rmse'], label='Test')\n",
    "ax.legend()\n",
    "plt.ylabel('RMSE')\n",
    "plt.title('XGBoost RMSE')"
   ]
  },
  {
   "cell_type": "markdown",
   "metadata": {},
   "source": [
    "## 10. Early stopping"
   ]
  },
  {
   "cell_type": "code",
   "execution_count": 11,
   "metadata": {},
   "outputs": [
    {
     "name": "stdout",
     "output_type": "stream",
     "text": [
      "[0]\tvalidation_0-rmse:109.845\tvalidation_1-rmse:109.577\n",
      "Multiple eval metrics have been passed: 'validation_1-rmse' will be used for early stopping.\n",
      "\n",
      "Will train until validation_1-rmse hasn't improved in 10 rounds.\n",
      "[1]\tvalidation_0-rmse:99.0021\tvalidation_1-rmse:98.7209\n",
      "[2]\tvalidation_0-rmse:89.2478\tvalidation_1-rmse:88.9548\n",
      "[3]\tvalidation_0-rmse:80.4795\tvalidation_1-rmse:80.1827\n",
      "[4]\tvalidation_0-rmse:72.594\tvalidation_1-rmse:72.2894\n",
      "[5]\tvalidation_0-rmse:65.5117\tvalidation_1-rmse:65.2294\n",
      "[6]\tvalidation_0-rmse:59.146\tvalidation_1-rmse:58.8527\n",
      "[7]\tvalidation_0-rmse:53.4323\tvalidation_1-rmse:53.1374\n",
      "[8]\tvalidation_0-rmse:48.3054\tvalidation_1-rmse:48.0121\n",
      "[9]\tvalidation_0-rmse:43.7086\tvalidation_1-rmse:43.4277\n",
      "[10]\tvalidation_0-rmse:39.5926\tvalidation_1-rmse:39.3241\n",
      "[11]\tvalidation_0-rmse:35.9106\tvalidation_1-rmse:35.646\n",
      "[12]\tvalidation_0-rmse:32.6211\tvalidation_1-rmse:32.3639\n",
      "[13]\tvalidation_0-rmse:29.6841\tvalidation_1-rmse:29.4604\n",
      "[14]\tvalidation_0-rmse:27.0663\tvalidation_1-rmse:26.8663\n",
      "[15]\tvalidation_0-rmse:24.7407\tvalidation_1-rmse:24.5591\n",
      "[16]\tvalidation_0-rmse:22.6752\tvalidation_1-rmse:22.5044\n",
      "[17]\tvalidation_0-rmse:20.8494\tvalidation_1-rmse:20.6964\n",
      "[18]\tvalidation_0-rmse:19.2366\tvalidation_1-rmse:19.1162\n",
      "[19]\tvalidation_0-rmse:17.7884\tvalidation_1-rmse:17.7073\n",
      "[20]\tvalidation_0-rmse:16.5419\tvalidation_1-rmse:16.4928\n",
      "[21]\tvalidation_0-rmse:15.4539\tvalidation_1-rmse:15.435\n",
      "[22]\tvalidation_0-rmse:14.462\tvalidation_1-rmse:14.4877\n",
      "[23]\tvalidation_0-rmse:13.6364\tvalidation_1-rmse:13.7119\n",
      "[24]\tvalidation_0-rmse:12.8124\tvalidation_1-rmse:12.9307\n",
      "[25]\tvalidation_0-rmse:12.1962\tvalidation_1-rmse:12.3626\n",
      "[26]\tvalidation_0-rmse:11.6337\tvalidation_1-rmse:11.8572\n",
      "[27]\tvalidation_0-rmse:11.0587\tvalidation_1-rmse:11.3355\n",
      "[28]\tvalidation_0-rmse:10.6069\tvalidation_1-rmse:10.9164\n",
      "[29]\tvalidation_0-rmse:10.1656\tvalidation_1-rmse:10.54\n",
      "[30]\tvalidation_0-rmse:9.79283\tvalidation_1-rmse:10.2101\n",
      "[31]\tvalidation_0-rmse:9.38695\tvalidation_1-rmse:9.82539\n",
      "[32]\tvalidation_0-rmse:9.12547\tvalidation_1-rmse:9.59448\n",
      "[33]\tvalidation_0-rmse:8.80733\tvalidation_1-rmse:9.28988\n",
      "[34]\tvalidation_0-rmse:8.61319\tvalidation_1-rmse:9.14385\n",
      "[35]\tvalidation_0-rmse:8.3808\tvalidation_1-rmse:8.93376\n",
      "[36]\tvalidation_0-rmse:8.17805\tvalidation_1-rmse:8.75163\n",
      "[37]\tvalidation_0-rmse:8.04533\tvalidation_1-rmse:8.61981\n",
      "[38]\tvalidation_0-rmse:7.92669\tvalidation_1-rmse:8.52379\n",
      "[39]\tvalidation_0-rmse:7.76218\tvalidation_1-rmse:8.37796\n",
      "[40]\tvalidation_0-rmse:7.66818\tvalidation_1-rmse:8.31383\n",
      "[41]\tvalidation_0-rmse:7.59195\tvalidation_1-rmse:8.26617\n",
      "[42]\tvalidation_0-rmse:7.47379\tvalidation_1-rmse:8.17106\n",
      "[43]\tvalidation_0-rmse:7.40865\tvalidation_1-rmse:8.11389\n",
      "[44]\tvalidation_0-rmse:7.35491\tvalidation_1-rmse:8.0714\n",
      "[45]\tvalidation_0-rmse:7.3202\tvalidation_1-rmse:8.04933\n",
      "[46]\tvalidation_0-rmse:7.23393\tvalidation_1-rmse:7.98262\n",
      "[47]\tvalidation_0-rmse:7.21163\tvalidation_1-rmse:7.9678\n",
      "[48]\tvalidation_0-rmse:7.18743\tvalidation_1-rmse:7.96507\n",
      "[49]\tvalidation_0-rmse:7.1241\tvalidation_1-rmse:7.90695\n",
      "[50]\tvalidation_0-rmse:7.08746\tvalidation_1-rmse:7.88687\n",
      "[51]\tvalidation_0-rmse:7.03861\tvalidation_1-rmse:7.85771\n",
      "[52]\tvalidation_0-rmse:7.02647\tvalidation_1-rmse:7.84988\n",
      "[53]\tvalidation_0-rmse:7.00861\tvalidation_1-rmse:7.84445\n",
      "[54]\tvalidation_0-rmse:6.96921\tvalidation_1-rmse:7.81678\n",
      "[55]\tvalidation_0-rmse:6.91456\tvalidation_1-rmse:7.76165\n",
      "[56]\tvalidation_0-rmse:6.89507\tvalidation_1-rmse:7.75296\n",
      "[57]\tvalidation_0-rmse:6.87845\tvalidation_1-rmse:7.7371\n",
      "[58]\tvalidation_0-rmse:6.83184\tvalidation_1-rmse:7.70068\n",
      "[59]\tvalidation_0-rmse:6.82252\tvalidation_1-rmse:7.68351\n",
      "[60]\tvalidation_0-rmse:6.81153\tvalidation_1-rmse:7.68844\n",
      "[61]\tvalidation_0-rmse:6.80646\tvalidation_1-rmse:7.69066\n",
      "[62]\tvalidation_0-rmse:6.78142\tvalidation_1-rmse:7.67558\n",
      "[63]\tvalidation_0-rmse:6.75006\tvalidation_1-rmse:7.65257\n",
      "[64]\tvalidation_0-rmse:6.73732\tvalidation_1-rmse:7.64846\n",
      "[65]\tvalidation_0-rmse:6.70695\tvalidation_1-rmse:7.61885\n",
      "[66]\tvalidation_0-rmse:6.6992\tvalidation_1-rmse:7.60303\n",
      "[67]\tvalidation_0-rmse:6.68682\tvalidation_1-rmse:7.61348\n",
      "[68]\tvalidation_0-rmse:6.65425\tvalidation_1-rmse:7.58335\n",
      "[69]\tvalidation_0-rmse:6.65126\tvalidation_1-rmse:7.58696\n",
      "[70]\tvalidation_0-rmse:6.62302\tvalidation_1-rmse:7.57341\n",
      "[71]\tvalidation_0-rmse:6.61507\tvalidation_1-rmse:7.58024\n",
      "[72]\tvalidation_0-rmse:6.60534\tvalidation_1-rmse:7.5765\n",
      "[73]\tvalidation_0-rmse:6.59952\tvalidation_1-rmse:7.56456\n",
      "[74]\tvalidation_0-rmse:6.56961\tvalidation_1-rmse:7.54647\n",
      "[75]\tvalidation_0-rmse:6.54786\tvalidation_1-rmse:7.52968\n",
      "[76]\tvalidation_0-rmse:6.54031\tvalidation_1-rmse:7.53029\n",
      "[77]\tvalidation_0-rmse:6.5289\tvalidation_1-rmse:7.52138\n",
      "[78]\tvalidation_0-rmse:6.52226\tvalidation_1-rmse:7.50837\n",
      "[79]\tvalidation_0-rmse:6.50742\tvalidation_1-rmse:7.50555\n",
      "[80]\tvalidation_0-rmse:6.49924\tvalidation_1-rmse:7.52005\n",
      "[81]\tvalidation_0-rmse:6.4932\tvalidation_1-rmse:7.52654\n",
      "[82]\tvalidation_0-rmse:6.46481\tvalidation_1-rmse:7.50972\n",
      "[83]\tvalidation_0-rmse:6.45909\tvalidation_1-rmse:7.49884\n",
      "[84]\tvalidation_0-rmse:6.43922\tvalidation_1-rmse:7.49371\n",
      "[85]\tvalidation_0-rmse:6.43562\tvalidation_1-rmse:7.48576\n",
      "[86]\tvalidation_0-rmse:6.43\tvalidation_1-rmse:7.47664\n",
      "[87]\tvalidation_0-rmse:6.42217\tvalidation_1-rmse:7.48401\n",
      "[88]\tvalidation_0-rmse:6.40814\tvalidation_1-rmse:7.46916\n",
      "[89]\tvalidation_0-rmse:6.39388\tvalidation_1-rmse:7.4608\n",
      "[90]\tvalidation_0-rmse:6.38611\tvalidation_1-rmse:7.45489\n",
      "[91]\tvalidation_0-rmse:6.37065\tvalidation_1-rmse:7.44662\n",
      "[92]\tvalidation_0-rmse:6.36585\tvalidation_1-rmse:7.4421\n",
      "[93]\tvalidation_0-rmse:6.35951\tvalidation_1-rmse:7.45084\n",
      "[94]\tvalidation_0-rmse:6.35436\tvalidation_1-rmse:7.45072\n",
      "[95]\tvalidation_0-rmse:6.34854\tvalidation_1-rmse:7.44517\n",
      "[96]\tvalidation_0-rmse:6.34424\tvalidation_1-rmse:7.45367\n",
      "[97]\tvalidation_0-rmse:6.34178\tvalidation_1-rmse:7.45406\n",
      "[98]\tvalidation_0-rmse:6.33707\tvalidation_1-rmse:7.44541\n",
      "[99]\tvalidation_0-rmse:6.32526\tvalidation_1-rmse:7.43525\n",
      "[100]\tvalidation_0-rmse:6.31033\tvalidation_1-rmse:7.43002\n",
      "[101]\tvalidation_0-rmse:6.30606\tvalidation_1-rmse:7.42507\n",
      "[102]\tvalidation_0-rmse:6.30173\tvalidation_1-rmse:7.42525\n",
      "[103]\tvalidation_0-rmse:6.29621\tvalidation_1-rmse:7.42246\n",
      "[104]\tvalidation_0-rmse:6.28426\tvalidation_1-rmse:7.41253\n",
      "[105]\tvalidation_0-rmse:6.2741\tvalidation_1-rmse:7.40413\n",
      "[106]\tvalidation_0-rmse:6.27034\tvalidation_1-rmse:7.41223\n",
      "[107]\tvalidation_0-rmse:6.26269\tvalidation_1-rmse:7.414\n",
      "[108]\tvalidation_0-rmse:6.2533\tvalidation_1-rmse:7.40508\n",
      "[109]\tvalidation_0-rmse:6.24846\tvalidation_1-rmse:7.40132\n",
      "[110]\tvalidation_0-rmse:6.23922\tvalidation_1-rmse:7.39285\n",
      "[111]\tvalidation_0-rmse:6.23459\tvalidation_1-rmse:7.39191\n",
      "[112]\tvalidation_0-rmse:6.22466\tvalidation_1-rmse:7.38633\n",
      "[113]\tvalidation_0-rmse:6.2195\tvalidation_1-rmse:7.39586\n",
      "[114]\tvalidation_0-rmse:6.21658\tvalidation_1-rmse:7.39558\n",
      "[115]\tvalidation_0-rmse:6.21532\tvalidation_1-rmse:7.39752\n",
      "[116]\tvalidation_0-rmse:6.20897\tvalidation_1-rmse:7.39478\n",
      "[117]\tvalidation_0-rmse:6.20518\tvalidation_1-rmse:7.39486\n",
      "[118]\tvalidation_0-rmse:6.19736\tvalidation_1-rmse:7.3927\n",
      "[119]\tvalidation_0-rmse:6.19227\tvalidation_1-rmse:7.39465\n",
      "[120]\tvalidation_0-rmse:6.18815\tvalidation_1-rmse:7.39332\n",
      "[121]\tvalidation_0-rmse:6.17939\tvalidation_1-rmse:7.3857\n",
      "[122]\tvalidation_0-rmse:6.17706\tvalidation_1-rmse:7.38079\n",
      "[123]\tvalidation_0-rmse:6.16735\tvalidation_1-rmse:7.37359\n",
      "[124]\tvalidation_0-rmse:6.16388\tvalidation_1-rmse:7.37377\n",
      "[125]\tvalidation_0-rmse:6.15801\tvalidation_1-rmse:7.37435\n",
      "[126]\tvalidation_0-rmse:6.15061\tvalidation_1-rmse:7.37143\n",
      "[127]\tvalidation_0-rmse:6.14334\tvalidation_1-rmse:7.36586\n",
      "[128]\tvalidation_0-rmse:6.13976\tvalidation_1-rmse:7.36534\n",
      "[129]\tvalidation_0-rmse:6.13557\tvalidation_1-rmse:7.37226\n",
      "[130]\tvalidation_0-rmse:6.13041\tvalidation_1-rmse:7.37347\n",
      "[131]\tvalidation_0-rmse:6.11993\tvalidation_1-rmse:7.36603\n",
      "[132]\tvalidation_0-rmse:6.11504\tvalidation_1-rmse:7.36886\n",
      "[133]\tvalidation_0-rmse:6.10822\tvalidation_1-rmse:7.35951\n",
      "[134]\tvalidation_0-rmse:6.10376\tvalidation_1-rmse:7.35555\n",
      "[135]\tvalidation_0-rmse:6.09674\tvalidation_1-rmse:7.35877\n",
      "[136]\tvalidation_0-rmse:6.08872\tvalidation_1-rmse:7.35146\n",
      "[137]\tvalidation_0-rmse:6.08411\tvalidation_1-rmse:7.35369\n",
      "[138]\tvalidation_0-rmse:6.07776\tvalidation_1-rmse:7.35242\n",
      "[139]\tvalidation_0-rmse:6.07007\tvalidation_1-rmse:7.35317\n",
      "[140]\tvalidation_0-rmse:6.0637\tvalidation_1-rmse:7.3414\n",
      "[141]\tvalidation_0-rmse:6.05594\tvalidation_1-rmse:7.34174\n",
      "[142]\tvalidation_0-rmse:6.04645\tvalidation_1-rmse:7.32995\n",
      "[143]\tvalidation_0-rmse:6.04267\tvalidation_1-rmse:7.32804\n",
      "[144]\tvalidation_0-rmse:6.04039\tvalidation_1-rmse:7.32608\n",
      "[145]\tvalidation_0-rmse:6.03358\tvalidation_1-rmse:7.31862\n",
      "[146]\tvalidation_0-rmse:6.0244\tvalidation_1-rmse:7.31816\n",
      "[147]\tvalidation_0-rmse:6.01616\tvalidation_1-rmse:7.31582\n",
      "[148]\tvalidation_0-rmse:6.01496\tvalidation_1-rmse:7.31878\n",
      "[149]\tvalidation_0-rmse:6.00824\tvalidation_1-rmse:7.31883\n",
      "[150]\tvalidation_0-rmse:6.0002\tvalidation_1-rmse:7.31572\n",
      "[151]\tvalidation_0-rmse:5.99503\tvalidation_1-rmse:7.31311\n",
      "[152]\tvalidation_0-rmse:5.99238\tvalidation_1-rmse:7.31338\n",
      "[153]\tvalidation_0-rmse:5.98622\tvalidation_1-rmse:7.30461\n",
      "[154]\tvalidation_0-rmse:5.97882\tvalidation_1-rmse:7.30778\n",
      "[155]\tvalidation_0-rmse:5.97286\tvalidation_1-rmse:7.30342\n",
      "[156]\tvalidation_0-rmse:5.97198\tvalidation_1-rmse:7.30782\n",
      "[157]\tvalidation_0-rmse:5.96439\tvalidation_1-rmse:7.31076\n",
      "[158]\tvalidation_0-rmse:5.95999\tvalidation_1-rmse:7.30934\n",
      "[159]\tvalidation_0-rmse:5.95439\tvalidation_1-rmse:7.3063\n",
      "[160]\tvalidation_0-rmse:5.95135\tvalidation_1-rmse:7.31069\n",
      "[161]\tvalidation_0-rmse:5.945\tvalidation_1-rmse:7.31208\n",
      "[162]\tvalidation_0-rmse:5.9444\tvalidation_1-rmse:7.31336\n",
      "[163]\tvalidation_0-rmse:5.94148\tvalidation_1-rmse:7.31079\n",
      "[164]\tvalidation_0-rmse:5.93896\tvalidation_1-rmse:7.30806\n",
      "[165]\tvalidation_0-rmse:5.93302\tvalidation_1-rmse:7.30635\n",
      "Stopping. Best iteration:\n",
      "[155]\tvalidation_0-rmse:5.97286\tvalidation_1-rmse:7.30342\n",
      "\n"
     ]
    },
    {
     "data": {
      "text/plain": [
       "XGBRegressor(base_score=0.5, booster='gbtree', colsample_bylevel=1,\n",
       "       colsample_bytree=1, gamma=0, learning_rate=0.1, max_delta_step=0,\n",
       "       max_depth=3, max_features=1.0, min_child_weight=1,\n",
       "       min_samples_leaf=5, missing=None, n_estimators=450, n_jobs=1,\n",
       "       nthread=None, objective='reg:linear', random_state=0, reg_alpha=0,\n",
       "       reg_lambda=1, scale_pos_weight=1, seed=None, silent=True,\n",
       "       subsample=1)"
      ]
     },
     "execution_count": 11,
     "metadata": {},
     "output_type": "execute_result"
    }
   ],
   "source": [
    "best_model.fit(X_train_2, y_train_2, early_stopping_rounds=10, eval_set=eval_set, verbose=True)"
   ]
  }
 ],
 "metadata": {
  "kernelspec": {
   "display_name": "Python 3",
   "language": "python",
   "name": "python3"
  },
  "language_info": {
   "codemirror_mode": {
    "name": "ipython",
    "version": 3
   },
   "file_extension": ".py",
   "mimetype": "text/x-python",
   "name": "python",
   "nbconvert_exporter": "python",
   "pygments_lexer": "ipython3",
   "version": "3.7.1"
  }
 },
 "nbformat": 4,
 "nbformat_minor": 4
}
