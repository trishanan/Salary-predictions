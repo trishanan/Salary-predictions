{
 "cells": [
  {
   "cell_type": "markdown",
   "metadata": {},
   "source": [
    "## 1. Importing libraries"
   ]
  },
  {
   "cell_type": "code",
   "execution_count": 4,
   "metadata": {},
   "outputs": [],
   "source": [
    "import pandas as pd\n",
    "from sklearn.ensemble import RandomForestRegressor\n",
    "import sys\n",
    "sys.path.insert(0, './modules')\n",
    "from Data_prep import Data\n",
    "from Feature_engg import Feature_generator\n",
    "import seaborn as sns\n",
    "import matplotlib.pyplot as plt\n",
    "from sklearn import metrics\n",
    "from sklearn.model_selection import GridSearchCV\n",
    "from sklearn.model_selection import train_test_split\n",
    "import warnings\n",
    "warnings.filterwarnings('ignore')"
   ]
  },
  {
   "cell_type": "markdown",
   "metadata": {},
   "source": [
    "## 2. Define parameters required to create data"
   ]
  },
  {
   "cell_type": "code",
   "execution_count": 5,
   "metadata": {},
   "outputs": [],
   "source": [
    "#define number of processors to use for parallel runs\n",
    "num_procs = 4\n",
    "\n",
    "#set verbose level for models\n",
    "verbose_lvl = 0\n",
    "\n",
    "#define input files\n",
    "train_feature_file = r'C:\\Users\\Admin\\Desktop\\salary_predictions\\data\\train_features.csv'\n",
    "train_target_file = r'C:\\Users\\Admin\\Desktop\\salary_predictions\\data\\train_salaries.csv'\n",
    "test_file = r'C:\\Users\\Admin\\Desktop\\salary_predictions\\data\\test_features.csv'\n",
    "\n",
    "#define variables\n",
    "cat_cols = ['companyId', 'jobType', 'degree', 'major', 'industry']\n",
    "num_cols = ['yearsExperience', 'milesFromMetropolis']\n",
    "target_col = 'salary'\n",
    "id_col = 'jobId'\n",
    "\n",
    "#turn feature engineering on/off\n",
    "engineer_features = True"
   ]
  },
  {
   "cell_type": "markdown",
   "metadata": {},
   "source": [
    "## 3. Creating a data object"
   ]
  },
  {
   "cell_type": "code",
   "execution_count": 6,
   "metadata": {},
   "outputs": [],
   "source": [
    "data = Data(train_feature_file, train_target_file, test_file, cat_cols, num_cols, target_col, id_col)"
   ]
  },
  {
   "cell_type": "code",
   "execution_count": 7,
   "metadata": {},
   "outputs": [],
   "source": [
    "if engineer_features:\n",
    "    feature_generator = Feature_generator(data)\n",
    "    feature_generator.add_group_stats()"
   ]
  },
  {
   "cell_type": "code",
   "execution_count": 9,
   "metadata": {},
   "outputs": [
    {
     "data": {
      "text/plain": [
       "(10000, 15)"
      ]
     },
     "execution_count": 9,
     "metadata": {},
     "output_type": "execute_result"
    }
   ],
   "source": [
    "data.train_df = data.train_df.sample(n = 10000,replace = True, random_state = 2)\n",
    "data.train_df.shape"
   ]
  },
  {
   "cell_type": "markdown",
   "metadata": {},
   "source": [
    "## 4. Train/test split"
   ]
  },
  {
   "cell_type": "code",
   "execution_count": 6,
   "metadata": {},
   "outputs": [],
   "source": [
    "# Split Train/Test Set\n",
    "X_train_2, X_test_2, y_train_2, y_test_2 = train_test_split(data.train_df.drop([\"salary\",\"index\",\"jobId\"], axis=1), data.train_df[\"salary\"],random_state=10, test_size=0.25)"
   ]
  },
  {
   "cell_type": "markdown",
   "metadata": {},
   "source": [
    "## 5. Tuning hyperparmeters using learning curves \n",
    "## 5.1 Tuning max_depth "
   ]
  },
  {
   "cell_type": "markdown",
   "metadata": {},
   "source": [
    "## The optimal max_depth parameter is 10"
   ]
  },
  {
   "cell_type": "code",
   "execution_count": 7,
   "metadata": {},
   "outputs": [
    {
     "name": "stdout",
     "output_type": "stream",
     "text": [
      "1 depth\n",
      "mse Train:  895.2763469396486\n",
      "mse Test:  857.9570417370278\n",
      " \n",
      "2 depth\n",
      "mse Train:  701.663519837911\n",
      "mse Test:  672.0538268683025\n",
      " \n",
      "3 depth\n",
      "mse Train:  542.5202003997562\n",
      "mse Test:  521.6001113094258\n",
      " \n",
      "4 depth\n",
      "mse Train:  427.2930302969358\n",
      "mse Test:  423.31430655419825\n",
      " \n",
      "5 depth\n",
      "mse Train:  363.23002659763284\n",
      "mse Test:  379.01045435548934\n",
      " \n",
      "10 depth\n",
      "mse Train:  167.21493051290997\n",
      "mse Test:  355.1243149997163\n",
      " \n",
      "20 depth\n",
      "mse Train:  67.90957997453468\n",
      "mse Test:  381.68010148081987\n",
      " \n",
      "50 depth\n",
      "mse Train:  67.45485233333332\n",
      "mse Test:  382.87370400000003\n",
      " \n",
      "100 depth\n",
      "mse Train:  67.45485233333332\n",
      "mse Test:  382.87370400000003\n",
      " \n"
     ]
    },
    {
     "data": {
      "image/png": "[encoded data removed]",
      "text/plain": [
       "<Figure size 432x288 with 1 Axes>"
      ]
     },
     "metadata": {
      "needs_background": "light"
     },
     "output_type": "display_data"
    }
   ],
   "source": [
    "results  =  []\n",
    "results2 = []\n",
    "max_depth_size  = [1,2,3,4,5,10,20,50,100]\n",
    "\n",
    "for depth in max_depth_size:\n",
    "    model = RandomForestRegressor(max_depth = depth, oob_score=True, n_jobs=-1, random_state=44)\n",
    "    #model.fit(X, y)\n",
    "    model.fit(X_train_2, y_train_2)\n",
    "    print(depth, 'depth')\n",
    "    pred = model.predict(X_train_2)\n",
    "    pred2 = model.predict(X_test_2)\n",
    "    mse1 = metrics.mean_squared_error(y_train_2, pred)\n",
    "    mse2 = metrics.mean_squared_error(y_test_2, pred2)\n",
    "    print('mse Train: ', mse1)\n",
    "    print('mse Test: ', mse2)\n",
    "    results.append(mse1)\n",
    "    results2.append(mse2)\n",
    "    print (\" \")\n",
    "\n",
    "plt.plot(max_depth_size, results, label='Train Set')\n",
    "plt.plot(max_depth_size, results2, label='Test Set')\n",
    "plt.xlabel('Max Depth Size')\n",
    "plt.ylabel('MSE')\n",
    "plt.title('Train VS Test Scores')\n",
    "plt.legend(loc=\"lower right\")\n",
    "plt.show()"
   ]
  },
  {
   "cell_type": "markdown",
   "metadata": {},
   "source": [
    "## 6.2 Tuning n_estimators"
   ]
  },
  {
   "cell_type": "markdown",
   "metadata": {},
   "source": [
    "## The optimal number of estimators is 100"
   ]
  },
  {
   "cell_type": "code",
   "execution_count": 8,
   "metadata": {},
   "outputs": [
    {
     "name": "stdout",
     "output_type": "stream",
     "text": [
      "1 estimator\n",
      "mse Train:  271.48453333333333\n",
      "mse Test:  719.804\n",
      " \n",
      "2 estimator\n",
      "mse Train:  147.47636666666668\n",
      "mse Test:  525.2033\n",
      " \n",
      "3 estimator\n",
      "mse Train:  113.9162074074074\n",
      "mse Test:  475.8791555555556\n",
      " \n",
      "4 estimator\n",
      "mse Train:  97.4546625\n",
      "mse Test:  440.947\n",
      " \n",
      "5 estimator\n",
      "mse Train:  88.07005066666665\n",
      "mse Test:  423.427712\n",
      " \n",
      "10 estimator\n",
      "mse Train:  67.45485233333332\n",
      "mse Test:  382.87370400000003\n",
      " \n",
      "20 estimator\n",
      "mse Train:  57.03220375000001\n",
      "mse Test:  361.0078667777778\n",
      " \n",
      "50 estimator\n",
      "mse Train:  50.405973477407414\n",
      "mse Test:  350.38584534555554\n",
      " \n",
      "100 estimator\n",
      "mse Train:  48.515221548518525\n",
      "mse Test:  345.78636692500004\n",
      " \n"
     ]
    },
    {
     "data": {
      "image/png": "[encoded data removed]",
      "text/plain": [
       "<Figure size 432x288 with 1 Axes>"
      ]
     },
     "metadata": {
      "needs_background": "light"
     },
     "output_type": "display_data"
    }
   ],
   "source": [
    "results  =  []\n",
    "results2 = []\n",
    "estimators  = [1,2,3,4,5,10,20,50,100]\n",
    "\n",
    "for estimator in estimators:\n",
    "    model = RandomForestRegressor(n_estimators = estimator, oob_score=True, n_jobs=-1, random_state=44)\n",
    "    #model.fit(X, y)\n",
    "    model.fit(X_train_2, y_train_2)\n",
    "    print(estimator, 'estimator')\n",
    "    pred = model.predict(X_train_2)\n",
    "    pred2 = model.predict(X_test_2)\n",
    "    mse1 = metrics.mean_squared_error(y_train_2, pred)\n",
    "    mse2 = metrics.mean_squared_error(y_test_2, pred2)\n",
    "    print('mse Train: ', mse1)\n",
    "    print('mse Test: ', mse2)\n",
    "    results.append(mse1)\n",
    "    results2.append(mse2)\n",
    "    print (\" \")\n",
    "\n",
    "plt.plot(max_depth_size, results, label='Train Set')\n",
    "plt.plot(max_depth_size, results2, label='Test Set')\n",
    "plt.xlabel('Max Depth Size')\n",
    "plt.ylabel('MSE')\n",
    "plt.title('Train VS Test Scores')\n",
    "plt.legend(loc=\"lower right\")\n",
    "plt.show()"
   ]
  },
  {
   "cell_type": "markdown",
   "metadata": {},
   "source": [
    "## 5.3 Tuning max_features using OOB score \n",
    "## The optimal max_features is 0.7"
   ]
  },
  {
   "cell_type": "code",
   "execution_count": 9,
   "metadata": {},
   "outputs": [
    {
     "name": "stdout",
     "output_type": "stream",
     "text": [
      "auto option\n",
      "oob:  0.7370926823356438\n",
      " \n",
      "None option\n",
      "oob:  0.7370926823356438\n",
      " \n",
      "sqrt option\n",
      "oob:  0.7196541741954294\n",
      " \n",
      "log2 option\n",
      "oob:  0.7196541741954294\n",
      " \n",
      "0.7 option\n",
      "oob:  0.7326185697024112\n",
      " \n",
      "0.2 option\n",
      "oob:  0.7114745929104072\n",
      " \n"
     ]
    },
    {
     "data": {
      "text/plain": [
       "<matplotlib.axes._subplots.AxesSubplot at 0x24329ef1710>"
      ]
     },
     "execution_count": 9,
     "metadata": {},
     "output_type": "execute_result"
    },
    {
     "data": {
      "image/png": "[encoded data removed]",
      "text/plain": [
       "<Figure size 432x288 with 1 Axes>"
      ]
     },
     "metadata": {
      "needs_background": "light"
     },
     "output_type": "display_data"
    }
   ],
   "source": [
    "results = []\n",
    "max_features_options = [\"auto\", None, \"sqrt\", \"log2\", 0.7, 0.2]\n",
    "\n",
    "for max_features in max_features_options:\n",
    "    model = RandomForestRegressor(n_estimators=20, oob_score=True, n_jobs=-1, random_state=42, max_features=max_features)\n",
    "    model.fit(X_train_2, y_train_2)\n",
    "    print(max_features, \"option\")\n",
    "    oob = model.oob_score_\n",
    "    print('oob: ', oob)\n",
    "    results.append(oob)\n",
    "    print (\" \")\n",
    "    \n",
    "pd.Series(results, max_features_options).plot(kind='bar')"
   ]
  },
  {
   "cell_type": "markdown",
   "metadata": {},
   "source": [
    "## 5.4 Tuning min_samples_leaf using OOB score "
   ]
  },
  {
   "cell_type": "markdown",
   "metadata": {},
   "source": [
    "## The optimum min_samples_leaf is 9"
   ]
  },
  {
   "cell_type": "code",
   "execution_count": 10,
   "metadata": {},
   "outputs": [
    {
     "name": "stdout",
     "output_type": "stream",
     "text": [
      "1 min samples\n",
      "oob:  0.7680682949726445\n",
      " \n",
      "2 min samples\n",
      "oob:  0.7706062060408911\n",
      " \n",
      "3 min samples\n",
      "oob:  0.7719286049343795\n",
      " \n",
      "4 min samples\n",
      "oob:  0.774374077218009\n",
      " \n",
      "5 min samples\n",
      "oob:  0.774018001788908\n",
      " \n",
      "6 min samples\n",
      "oob:  0.7750146277690888\n",
      " \n",
      "7 min samples\n",
      "oob:  0.7748633554567338\n",
      " \n",
      "8 min samples\n",
      "oob:  0.7749485896848032\n",
      " \n",
      "9 min samples\n",
      "oob:  0.7757044347584899\n",
      " \n",
      "10 min samples\n",
      "oob:  0.775240722562477\n",
      " \n",
      "20 min samples\n",
      "oob:  0.7732724490831674\n",
      " \n"
     ]
    },
    {
     "data": {
      "text/plain": [
       "<matplotlib.axes._subplots.AxesSubplot at 0x24322529160>"
      ]
     },
     "execution_count": 10,
     "metadata": {},
     "output_type": "execute_result"
    },
    {
     "data": {
      "image/png": "[encoded data removed]",
      "text/plain": [
       "<Figure size 432x288 with 1 Axes>"
      ]
     },
     "metadata": {
      "needs_background": "light"
     },
     "output_type": "display_data"
    }
   ],
   "source": [
    "results = []\n",
    "min_samples_leaf_options = [1, 2, 3, 4, 5, 6, 7, 8, 9, 10,20]\n",
    "\n",
    "for min_samples in min_samples_leaf_options:\n",
    "    model = RandomForestRegressor(n_estimators=100, oob_score=True, n_jobs=-1, random_state=42, max_features=0.7, min_samples_leaf=min_samples)\n",
    "    model.fit(X_train_2, y_train_2)\n",
    "    print(min_samples, \"min samples\")\n",
    "    oob = model.oob_score_\n",
    "    print('oob: ', oob)\n",
    "    results.append(oob)\n",
    "    print (\" \")\n",
    "    \n",
    "pd.Series(results, min_samples_leaf_options).plot()"
   ]
  },
  {
   "cell_type": "markdown",
   "metadata": {},
   "source": [
    "## 6. Perform grid_search"
   ]
  },
  {
   "cell_type": "code",
   "execution_count": 11,
   "metadata": {},
   "outputs": [],
   "source": [
    "model = RandomForestRegressor()"
   ]
  },
  {
   "cell_type": "code",
   "execution_count": 17,
   "metadata": {},
   "outputs": [],
   "source": [
    "# Define Parameters\n",
    "param_grid = {\"max_depth\": [9,10,11],\n",
    "              \"max_features\" : [0.7,0.8],\n",
    "              \"min_samples_leaf\" : [9,10,11],\n",
    "              \"n_estimators\": [100,150,200]\n",
    "             }"
   ]
  },
  {
   "cell_type": "code",
   "execution_count": 18,
   "metadata": {},
   "outputs": [
    {
     "name": "stdout",
     "output_type": "stream",
     "text": [
      "Fitting 3 folds for each of 54 candidates, totalling 162 fits\n"
     ]
    },
    {
     "name": "stderr",
     "output_type": "stream",
     "text": [
      "[Parallel(n_jobs=-1)]: Using backend LokyBackend with 8 concurrent workers.\n",
      "[Parallel(n_jobs=-1)]: Done   2 tasks      | elapsed:    1.4s\n",
      "[Parallel(n_jobs=-1)]: Done   9 tasks      | elapsed:    2.9s\n",
      "[Parallel(n_jobs=-1)]: Done  16 tasks      | elapsed:    4.8s\n",
      "[Parallel(n_jobs=-1)]: Done  25 tasks      | elapsed:    7.1s\n",
      "[Parallel(n_jobs=-1)]: Done  34 tasks      | elapsed:    9.7s\n",
      "[Parallel(n_jobs=-1)]: Done  45 tasks      | elapsed:   12.9s\n",
      "[Parallel(n_jobs=-1)]: Done  56 tasks      | elapsed:   16.2s\n",
      "[Parallel(n_jobs=-1)]: Done  69 tasks      | elapsed:   20.1s\n",
      "[Parallel(n_jobs=-1)]: Done  82 tasks      | elapsed:   23.7s\n",
      "[Parallel(n_jobs=-1)]: Done  97 tasks      | elapsed:   28.4s\n",
      "[Parallel(n_jobs=-1)]: Done 112 tasks      | elapsed:   33.3s\n",
      "[Parallel(n_jobs=-1)]: Done 129 tasks      | elapsed:   38.5s\n",
      "[Parallel(n_jobs=-1)]: Done 146 tasks      | elapsed:   43.8s\n",
      "[Parallel(n_jobs=-1)]: Done 162 out of 162 | elapsed:   49.8s finished\n"
     ]
    }
   ],
   "source": [
    "gs_cv = GridSearchCV(model, param_grid=param_grid, cv = 3, verbose=10, n_jobs=-1 ).fit(X_train_2, y_train_2)"
   ]
  },
  {
   "cell_type": "code",
   "execution_count": 16,
   "metadata": {},
   "outputs": [
    {
     "data": {
      "text/plain": [
       "RandomForestRegressor(bootstrap=True, criterion='mse', max_depth=10,\n",
       "           max_features=0.7, max_leaf_nodes=None,\n",
       "           min_impurity_decrease=0.0, min_impurity_split=None,\n",
       "           min_samples_leaf=1, min_samples_split=2,\n",
       "           min_weight_fraction_leaf=0.0, n_estimators=200, n_jobs=None,\n",
       "           oob_score=False, random_state=None, verbose=0, warm_start=False)"
      ]
     },
     "execution_count": 16,
     "metadata": {},
     "output_type": "execute_result"
    }
   ],
   "source": [
    "gs_cv.best_estimator_"
   ]
  }
 ],
 "metadata": {
  "kernelspec": {
   "display_name": "Python 3",
   "language": "python",
   "name": "python3"
  },
  "language_info": {
   "codemirror_mode": {
    "name": "ipython",
    "version": 3
   },
   "file_extension": ".py",
   "mimetype": "text/x-python",
   "name": "python",
   "nbconvert_exporter": "python",
   "pygments_lexer": "ipython3",
   "version": "3.7.1"
  }
 },
 "nbformat": 4,
 "nbformat_minor": 4
}
